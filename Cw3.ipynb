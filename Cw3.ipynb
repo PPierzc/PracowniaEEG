{
  "nbformat": 4,
  "nbformat_minor": 0,
  "metadata": {
    "colab": {
      "name": "Cw3.ipynb",
      "version": "0.3.2",
      "provenance": [],
      "include_colab_link": true
    },
    "kernelspec": {
      "name": "python3",
      "display_name": "Python 3"
    }
  },
  "cells": [
    {
      "cell_type": "markdown",
      "metadata": {
        "id": "view-in-github",
        "colab_type": "text"
      },
      "source": [
        "<a href=\"https://colab.research.google.com/github/PPierzc/PracowniaEEG/blob/master/Cw3.ipynb\" target=\"_parent\"><img src=\"https://colab.research.google.com/assets/colab-badge.svg\" alt=\"Open In Colab\"/></a>"
      ]
    },
    {
      "metadata": {
        "id": "JNUmQ6m2WRGJ",
        "colab_type": "code",
        "outputId": "fe970b4c-bd26-4539-83c1-b5e727708382",
        "colab": {
          "base_uri": "https://localhost:8080/",
          "height": 104
        }
      },
      "cell_type": "code",
      "source": [
        "import numpy as np\n",
        "import matplotlib.pyplot as plt\n",
        "import scipy.stats as st\n",
        "import copy\n",
        "import tqdm\n",
        "import itertools\n",
        "import seaborn as sns\n",
        "import os\n",
        "\n",
        "!pip install obci_readmanager\n",
        "from obci_readmanager.signal_processing.read_manager import ReadManager"
      ],
      "execution_count": 0,
      "outputs": [
        {
          "output_type": "stream",
          "text": [
            "Collecting obci_readmanager\n",
            "\u001b[?25l  Downloading https://files.pythonhosted.org/packages/b2/98/8e3567ca6e7a7fb6d5e00e623915c1e3a407a8ac0348f3fc708a8fa6678f/obci_readmanager-1.1.2-py3-none-any.whl (57kB)\n",
            "\u001b[K    100% |████████████████████████████████| 61kB 2.3MB/s \n",
            "\u001b[?25hInstalling collected packages: obci-readmanager\n",
            "Successfully installed obci-readmanager-1.1.2\n"
          ],
          "name": "stdout"
        }
      ]
    },
    {
      "metadata": {
        "id": "HTfiyeHxW5I5",
        "colab_type": "code",
        "colab": {}
      },
      "cell_type": "code",
      "source": [
        ""
      ],
      "execution_count": 0,
      "outputs": []
    }
  ]
}