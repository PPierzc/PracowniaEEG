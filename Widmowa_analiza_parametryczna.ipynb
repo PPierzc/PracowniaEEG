{
  "nbformat": 4,
  "nbformat_minor": 0,
  "metadata": {
    "colab": {
      "name": " Widmowa analiza parametryczna.ipynb",
      "version": "0.3.2",
      "provenance": [],
      "collapsed_sections": [],
      "include_colab_link": true
    },
    "kernelspec": {
      "name": "python3",
      "display_name": "Python 3"
    }
  },
  "cells": [
    {
      "cell_type": "markdown",
      "metadata": {
        "id": "view-in-github",
        "colab_type": "text"
      },
      "source": [
        "<a href=\"https://colab.research.google.com/github/PPierzc/PracowniaEEG/blob/master/Widmowa_analiza_parametryczna.ipynb\" target=\"_parent\"><img src=\"https://colab.research.google.com/assets/colab-badge.svg\" alt=\"Open In Colab\"/></a>"
      ]
    },
    {
      "metadata": {
        "id": "cx5RqG-i-jn3",
        "colab_type": "text"
      },
      "cell_type": "markdown",
      "source": [
        "#Setup"
      ]
    },
    {
      "metadata": {
        "id": "UdZbqsL7sQ4r",
        "colab_type": "code",
        "outputId": "08c81ec2-41fd-4125-98a0-83937230ba5d",
        "colab": {
          "base_uri": "https://localhost:8080/",
          "height": 471
        }
      },
      "cell_type": "code",
      "source": [
        "from google.colab import drive\n",
        "drive.mount('/content/gdrive')\n",
        "\n",
        "! rm -rf PracowniaEEG\n",
        "! git clone https://github.com/PPierzc/PracowniaEEG.git\n",
        "  \n",
        "import PracowniaEEG.filters as filters\n",
        "import PracowniaEEG.cw4_utils as utils\n",
        "import PracowniaEEG.mtmvar as mtmvar\n",
        "\n",
        "! pip install wget\n",
        "import wget\n",
        "\n",
        "!pip install obci_readmanager\n",
        "from obci_readmanager.signal_processing.read_manager import ReadManager\n",
        "\n",
        "import os\n",
        "\n",
        "import matplotlib.pyplot as plt\n",
        "import numpy as np\n",
        "import seaborn as sns\n",
        "\n",
        "\n",
        "import scipy\n",
        "\n",
        "\n",
        "sns.set()\n",
        "sns.set_context(\"talk\", font_scale=1.4)"
      ],
      "execution_count": 0,
      "outputs": [
        {
          "output_type": "stream",
          "text": [
            "Go to this URL in a browser: https://accounts.google.com/o/oauth2/auth?client_id=947318989803-6bn6qk8qdgf4n4g3pfee6491hc0brc4i.apps.googleusercontent.com&redirect_uri=urn%3Aietf%3Awg%3Aoauth%3A2.0%3Aoob&scope=email%20https%3A%2F%2Fwww.googleapis.com%2Fauth%2Fdocs.test%20https%3A%2F%2Fwww.googleapis.com%2Fauth%2Fdrive%20https%3A%2F%2Fwww.googleapis.com%2Fauth%2Fdrive.photos.readonly%20https%3A%2F%2Fwww.googleapis.com%2Fauth%2Fpeopleapi.readonly&response_type=code\n",
            "\n",
            "Enter your authorization code:\n",
            "··········\n",
            "Mounted at /content/gdrive\n",
            "Cloning into 'PracowniaEEG'...\n",
            "remote: Enumerating objects: 157, done.\u001b[K\n",
            "remote: Counting objects: 100% (157/157), done.\u001b[K\n",
            "remote: Compressing objects: 100% (128/128), done.\u001b[K\n",
            "remote: Total 157 (delta 77), reused 73 (delta 23), pack-reused 0\u001b[K\n",
            "Receiving objects: 100% (157/157), 23.56 MiB | 14.41 MiB/s, done.\n",
            "Resolving deltas: 100% (77/77), done.\n",
            "Collecting wget\n",
            "  Downloading https://files.pythonhosted.org/packages/47/6a/62e288da7bcda82b935ff0c6cfe542970f04e29c756b0e147251b2fb251f/wget-3.2.zip\n",
            "Building wheels for collected packages: wget\n",
            "  Running setup.py bdist_wheel for wget ... \u001b[?25l-\b \bdone\n",
            "\u001b[?25h  Stored in directory: /root/.cache/pip/wheels/40/15/30/7d8f7cea2902b4db79e3fea550d7d7b85ecb27ef992b618f3f\n",
            "Successfully built wget\n",
            "Installing collected packages: wget\n",
            "Successfully installed wget-3.2\n",
            "Collecting obci_readmanager\n",
            "\u001b[?25l  Downloading https://files.pythonhosted.org/packages/b2/98/8e3567ca6e7a7fb6d5e00e623915c1e3a407a8ac0348f3fc708a8fa6678f/obci_readmanager-1.1.2-py3-none-any.whl (57kB)\n",
            "\u001b[K    100% |████████████████████████████████| 61kB 2.6MB/s \n",
            "\u001b[?25hInstalling collected packages: obci-readmanager\n",
            "Successfully installed obci-readmanager-1.1.2\n"
          ],
          "name": "stdout"
        }
      ]
    },
    {
      "metadata": {
        "id": "7Rr_8uphs7k1",
        "colab_type": "code",
        "colab": {}
      },
      "cell_type": "code",
      "source": [
        ""
      ],
      "execution_count": 0,
      "outputs": []
    },
    {
      "metadata": {
        "id": "H9hgBTiFG09l",
        "colab_type": "text"
      },
      "cell_type": "markdown",
      "source": [
        "# Zadanie 1"
      ]
    },
    {
      "metadata": {
        "id": "gGFWuHas5NS8",
        "colab_type": "code",
        "outputId": "90998df3-5ecc-4fe9-8ef8-55023bcfa362",
        "colab": {
          "base_uri": "https://localhost:8080/",
          "height": 54
        }
      },
      "cell_type": "code",
      "source": [
        "filename = \"gdrive/My Drive/pracowniaEEG/cw1/otwarte\"\n",
        "mgr = ReadManager(\"%s.xml\"%filename, \"%s.raw\"%filename, \"%s.tag\"%filename)\n",
        "fs = int(float(mgr.get_param(\"sampling_frequency\")))\n",
        "num_of_channels = int(mgr.get_param(\"number_of_channels\"))\n",
        "channels_names = mgr.get_param(\"channels_names\")\n",
        "\n",
        "raw_syg_open = mgr.get_microvolt_samples()\n",
        "t = np.arange(raw_syg_open.shape[1])/fs\n",
        "\n",
        "choosen_channel = \"O2\"\n",
        "s = raw_syg_open[channels_names.index(choosen_channel),:]\n",
        "del(raw_syg_open)\n",
        "\n",
        "s = filters.butter_highpass_filter(s, 1, fs, order=5)\n",
        "# s = filters.notch_filter(s, 50, fs)\n",
        "\n",
        "s = s[len(s)//2 : len(s)//2 + 1000]\n",
        "s = s.reshape(1, s.size)\n",
        "\n",
        "x = np.arange(s.size)\n",
        "x = x.reshape(1, x.size)\n"
      ],
      "execution_count": 0,
      "outputs": [
        {
          "output_type": "stream",
          "text": [
            "2018-12-20 13:43:04,915 - data_source - INFO - All data set requested for the first time. Start reading all data from the file...\n"
          ],
          "name": "stderr"
        }
      ]
    },
    {
      "metadata": {
        "id": "BBFStFektLtt",
        "colab_type": "code",
        "outputId": "d5d6c0f6-c2f3-471a-fddb-3016327a3e95",
        "colab": {
          "base_uri": "https://localhost:8080/",
          "height": 34
        }
      },
      "cell_type": "code",
      "source": [
        ""
      ],
      "execution_count": 0,
      "outputs": [
        {
          "output_type": "stream",
          "text": [
            "(1, 1000)\n"
          ],
          "name": "stdout"
        }
      ]
    },
    {
      "metadata": {
        "id": "hPZTMCY65Zeq",
        "colab_type": "code",
        "outputId": "b2d48ff8-cbda-424d-8e94-3515af910483",
        "colab": {
          "base_uri": "https://localhost:8080/",
          "height": 447
        }
      },
      "cell_type": "code",
      "source": [
        "plt.figure()\n",
        "plt.plot(x[0],s[0])\n",
        "plt.show()\n",
        "plt.close()"
      ],
      "execution_count": 0,
      "outputs": [
        {
          "output_type": "display_data",
          "data": {
            "image/png": "[encoded data removed]",
            "text/plain": [
              "<matplotlib.figure.Figure at 0x7f09b95d59b0>"
            ]
          },
          "metadata": {
            "tags": []
          }
        }
      ]
    },
    {
      "metadata": {
        "id": "7A92iWRXHF3f",
        "colab_type": "code",
        "outputId": "4699f0b4-cea7-4656-9946-43b6e8416290",
        "colab": {
          "base_uri": "https://localhost:8080/",
          "height": 887
        }
      },
      "cell_type": "code",
      "source": [
        "AIC = utils.coeffs(s, 1, 5)\n",
        "for _x in AIC:\n",
        "  print(len(_x[0]), _x[0])\n",
        "  \n",
        "AIC = utils.get_aic_func(s, 1, 20)\n",
        "order, params, coefs = utils.best_akaike(s, 1, 20)\n",
        "\n",
        "plt.figure()\n",
        "plt.plot(list(range(1, 21)), AIC)\n",
        "plt.scatter(order, np.log(np.linalg.det(coefs)) + 2 * order * s.shape[0] * s.shape[0] / s.shape[1], color='r')\n",
        "plt.show()\n",
        "plt.close()\n",
        "\n"
      ],
      "execution_count": 0,
      "outputs": [
        {
          "output_type": "stream",
          "text": [
            "1 [[[0.3903067]]]\n",
            "2 [[[ 0.75133459]]\n",
            "\n",
            " [[-0.92498511]]]\n",
            "3 [[[ 1.59470344]]\n",
            "\n",
            " [[-1.61002553]]\n",
            "\n",
            " [[ 0.91176478]]]\n",
            "4 [[[ 1.66577228]]\n",
            "\n",
            " [[-1.73552134]]\n",
            "\n",
            " [[ 1.03606628]]\n",
            "\n",
            " [[-0.07794647]]]\n",
            "5 [[[ 1.6301757 ]]\n",
            "\n",
            " [[-1.26237076]]\n",
            "\n",
            " [[ 0.2434887 ]]\n",
            "\n",
            " [[ 0.68277813]]\n",
            "\n",
            " [[-0.45667983]]]\n"
          ],
          "name": "stdout"
        },
        {
          "output_type": "display_data",
          "data": {
            "image/png": "[encoded data removed]",
            "text/plain": [
              "<matplotlib.figure.Figure at 0x7f09b7894ba8>"
            ]
          },
          "metadata": {
            "tags": []
          }
        }
      ]
    },
    {
      "metadata": {
        "id": "q3gPu_lMxjOu",
        "colab_type": "text"
      },
      "cell_type": "markdown",
      "source": [
        "#Zadanie 2"
      ]
    },
    {
      "metadata": {
        "id": "sY0sc3U-kmOK",
        "colab_type": "code",
        "colab": {}
      },
      "cell_type": "code",
      "source": [
        "def widomo_f(s, order, f, Fs=128):\n",
        "  k = np.shape(s)[0]\n",
        "  \n",
        "  coef, V = mtmvar.mult_AR(s, order, 1)\n",
        "  A = np.eye(k, dtype='complex')\n",
        "  \n",
        "  for j in range(0, k):\n",
        "    for i  in range(len(coef)):\n",
        "      A +=coef[i,:,:]*(np.exp(2*1j*np.pi*f/Fs))**(-j-1)\n",
        "      \n",
        "  H = np.linalg.inv(A)\n",
        "  widma = np.dot(np.dot(H,V), np.matrix(H).H)\n",
        "  return A, H, widma\n",
        "\n",
        "# def widomo_f(s, order, f, Fs=128):\n",
        "#   k = np.shape(s)[0]\n",
        "  \n",
        "#   coef, V = mtmvar.mult_AR(s, order, 1)\n",
        "#   A = np.eye(k, dtype='complex')\n",
        "  \n",
        "#   for j in range(k):\n",
        "#     for i in range(1, len(coef)+1):\n",
        "#       A -=coef[i,:,:]*(np.exp(2*1j*np.pi*f/Fs))**(-i-1)\n",
        "      \n",
        "#   H = np.linalg.inv(A)\n",
        "#   widma = np.dot(np.dot(H,V), np.matrix(H).H)\n",
        "#   return A, H, widma\n",
        "\n",
        "def widomo(s, order, f_max, Fs=128):\n",
        "  efs = np.arange(0, f_max+1, .1)\n",
        "  widma = np.empty(efs.size, dtype=\"complex\")\n",
        "  for i, f in enumerate(efs):\n",
        "    q = widomo_f(s, order, f, Fs)\n",
        "    p = q[-1][0,0]\n",
        "    widma[i] = p\n",
        "    \n",
        "\n",
        "  return efs, widma\n",
        "  \n",
        "  "
      ],
      "execution_count": 0,
      "outputs": []
    },
    {
      "metadata": {
        "id": "hZUrxnsQzcrD",
        "colab_type": "code",
        "outputId": "d6b12bec-0806-4406-dbbb-722428d654df",
        "colab": {
          "base_uri": "https://localhost:8080/",
          "height": 34
        }
      },
      "cell_type": "code",
      "source": [
        "range(0, 10) == range(10)"
      ],
      "execution_count": 0,
      "outputs": [
        {
          "output_type": "execute_result",
          "data": {
            "text/plain": [
              "True"
            ]
          },
          "metadata": {
            "tags": []
          },
          "execution_count": 317
        }
      ]
    },
    {
      "metadata": {
        "id": "bPXTRI3amrYV",
        "colab_type": "code",
        "outputId": "dc151ff0-e43b-4197-eea8-a4c1c9a30d91",
        "colab": {
          "base_uri": "https://localhost:8080/",
          "height": 876
        }
      },
      "cell_type": "code",
      "source": [
        "xf, S = widomo(s, order, 40, fs)\n",
        "plt.figure()\n",
        "plt.plot(xf, abs(S))\n",
        "plt.show()\n",
        "plt.close()\n",
        "\n",
        "\n",
        "plt.figure()\n",
        "S = np.fft.rfft(s)\n",
        "freq = np.fft.rfftfreq(s.size, d=1./fs)\n",
        "plt.plot(freq, abs(S[0,:]))\n",
        "plt.show()\n",
        "plt.close()"
      ],
      "execution_count": 0,
      "outputs": [
        {
          "output_type": "display_data",
          "data": {
            "image/png": "[encoded data removed]",
            "text/plain": [
              "<matplotlib.figure.Figure at 0x7f09b4a876a0>"
            ]
          },
          "metadata": {
            "tags": []
          }
        },
        {
          "output_type": "display_data",
          "data": {
            "image/png": "[encoded data removed]",
            "text/plain": [
              "<matplotlib.figure.Figure at 0x7f09b4ba6a58>"
            ]
          },
          "metadata": {
            "tags": []
          }
        }
      ]
    },
    {
      "metadata": {
        "id": "3X8cXcPLqxB9",
        "colab_type": "code",
        "outputId": "6583cdbe-8ec2-43bc-8536-54fd99dbb5de",
        "colab": {
          "base_uri": "https://localhost:8080/",
          "height": 34
        }
      },
      "cell_type": "code",
      "source": [
        "f"
      ],
      "execution_count": 0,
      "outputs": [
        {
          "output_type": "execute_result",
          "data": {
            "text/plain": [
              "59"
            ]
          },
          "metadata": {
            "tags": []
          },
          "execution_count": 57
        }
      ]
    },
    {
      "metadata": {
        "id": "sJ5U_i5Dp1aT",
        "colab_type": "code",
        "outputId": "ae7b0892-1377-4f13-859c-08498ccb742a",
        "colab": {
          "base_uri": "https://localhost:8080/",
          "height": 4359
        }
      },
      "cell_type": "code",
      "source": [
        "s"
      ],
      "execution_count": 0,
      "outputs": [
        {
          "output_type": "execute_result",
          "data": {
            "text/plain": [
              "array([[-34.18073333,   9.14560748,  40.74800815,  19.65698051,\n",
              "        -23.88296456, -34.53081718,   3.65793153,  38.63128946,\n",
              "         25.77326348, -16.8266405 , -35.82941761,  -4.27956398,\n",
              "         35.56642327,  26.50854598, -17.36769499, -39.3627998 ,\n",
              "        -11.44876959,  31.19639344,  30.44318615, -12.56439563,\n",
              "        -40.62635708, -17.34920435,  28.38105542,  37.50541411,\n",
              "         -1.7736374 , -35.54510919, -17.0480123 ,  29.83664127,\n",
              "         43.54733856,   3.63506567, -35.91769225, -23.48795095,\n",
              "         22.69177287,  43.84846163,  10.23809684, -33.45184088,\n",
              "        -28.94887179,  17.95548298,  47.48720147,  18.31926085,\n",
              "        -29.29386251, -37.86619308,   3.97074387,  33.58292231,\n",
              "         11.21631541, -34.02860442, -43.6648655 ,   0.96900313,\n",
              "         39.24097169,  25.96300973, -19.4169139 , -36.40983098,\n",
              "         -0.34827397,  38.43172405,  28.37862942, -17.70909214,\n",
              "        -38.77047548,  -8.350556  ,  32.50963036,  31.04304717,\n",
              "        -12.60734253, -38.88207616, -12.8891916 ,  31.62327284,\n",
              "         39.95777842,  -2.54321398, -34.60424386, -15.54185108,\n",
              "         32.40742418,  46.18054142,   7.47345986, -31.44736158,\n",
              "        -22.24796418,  21.55811053,  35.4063208 ,  -2.93987527,\n",
              "        -49.50801974, -49.88665485,  -6.00632289,  19.71343369,\n",
              "         -6.68992758, -46.89244924, -40.69117386,  11.62785599,\n",
              "         44.78509776,  22.81600893, -26.17995294, -38.13883023,\n",
              "          2.7408348 ,  42.19050002,  26.29912344, -22.19633676,\n",
              "        -40.8764222 ,  -2.71417429,  39.59486578,  29.92315711,\n",
              "        -15.78484096, -38.18416877,  -5.52886635,  36.92152661,\n",
              "         34.11197079, -11.59807278, -38.86164264, -10.85627693,\n",
              "         34.95198666,  41.00561089,   0.44055898, -31.75970531,\n",
              "        -11.55121776,  35.96948642,  45.88037254,   4.4534065 ,\n",
              "        -32.54144523, -21.27471559,  23.81056313,  42.22535924,\n",
              "          7.15714171, -33.34611982, -30.23545504,  13.98660705,\n",
              "         39.68903817,  11.40781076, -32.31860202, -32.35972625,\n",
              "         13.00041277,  43.84479047,  24.4948831 , -18.88033231,\n",
              "        -29.50987791,  10.19522495,  41.46195576,  21.67629484,\n",
              "        -25.35227663, -40.06427663,  -5.08522227,  34.2538702 ,\n",
              "         23.68448542, -24.42389109, -46.43627292, -17.11317277,\n",
              "         22.07539756,  18.93442719, -27.39409386, -53.70417467,\n",
              "        -26.74832339,  18.79595274,  23.72664741, -19.10624477,\n",
              "        -49.7142283 , -23.7673067 ,  27.91801737,  40.34824222,\n",
              "          1.15386705, -38.97160801, -29.19168193,  16.26514726,\n",
              "         32.19088242,  -4.93797268, -47.64541339, -44.52293413,\n",
              "         -1.07602845,  23.85081099,  -5.42090761, -48.56517515,\n",
              "        -47.73848169,   0.13368357,  31.05883228,  12.21847693,\n",
              "        -28.93136917, -33.6176919 ,   8.24102369,  41.73279334,\n",
              "         23.88613356, -23.27693835, -39.62490432,  -2.63524556,\n",
              "         34.35305749,  22.86302509, -24.87882177, -48.16896141,\n",
              "        -19.12237149,  22.22097104,  19.01858985, -26.65599075,\n",
              "        -53.0267458 , -23.05664976,  25.2878235 ,  30.65970071,\n",
              "         -8.87149088, -38.82272344, -17.22346864,  31.54480236,\n",
              "         43.63261889,   4.09651076, -31.86549177, -16.77735801,\n",
              "         29.55544315,  45.71444323,   9.17717412, -33.79583193,\n",
              "        -26.6480423 ,  20.68207593,  46.84755599,  19.53043141,\n",
              "        -20.72876401, -18.15999623,  24.01926903,  52.97056626,\n",
              "         30.94193016, -14.68210442, -21.19600244,  18.90777124,\n",
              "         52.57625192,  33.54897497, -15.93752414, -30.46070988,\n",
              "          4.49395332,  40.59250109,  31.35996902, -13.83710728,\n",
              "        -33.72319221,   0.15874975,  42.40625408,  38.67935618,\n",
              "         -9.01990864, -34.4825052 ,  -7.60689843,  35.28494656,\n",
              "         38.06556455,  -4.84200992, -34.23574246, -13.2215989 ,\n",
              "         30.95895467,  40.89145196,   0.55992639, -34.26558888,\n",
              "        -18.89756097,  25.28554267,  40.8692543 ,   3.32910583,\n",
              "        -37.49937118, -29.8501455 ,  17.69681369,  40.50553685,\n",
              "          5.18555401, -37.99860517, -35.85091148,   6.98116384,\n",
              "         38.23114912,  12.49657224, -31.54103942, -36.03815896,\n",
              "          6.36974005,  40.27018352,  20.18919684, -26.05969513,\n",
              "        -39.13146806,  -1.93759815,  36.54443783,  26.90816255,\n",
              "        -20.62190191, -38.40673402,  -2.20781286,  40.0698819 ,\n",
              "         34.94436999, -12.2218295 , -37.86519806, -10.31121783,\n",
              "         31.97312842,  33.86135728, -11.08151531, -40.36447406,\n",
              "        -19.02400431,  24.33990788,  32.09827584, -11.3358878 ,\n",
              "        -47.0465711 , -28.98776277,  21.53354778,  37.37887043,\n",
              "         -1.97228559, -40.46391178, -29.76200033,  14.26045587,\n",
              "         32.90196324,   0.85152747, -40.06334645, -41.00815424,\n",
              "          3.09360768,  28.96444218,   2.57035138, -38.12216327,\n",
              "        -44.49310106,  -2.02796199,  31.93025324,  13.90954321,\n",
              "        -31.85159423, -43.86316192,  -3.53516343,  34.14889698,\n",
              "         20.85501434, -27.11481705, -44.76710356,  -7.29135227,\n",
              "         35.04792902,  30.34173183, -15.04645299, -38.5541353 ,\n",
              "         -6.29032565,  36.91446474,  37.57822398,  -5.08556049,\n",
              "        -34.5919019 , -11.47281416,  32.66868821,  38.70209001,\n",
              "         -3.95462461, -37.8154721 , -20.90996957,  24.31086526,\n",
              "         40.86151405,   3.50245785, -36.78682287, -26.52434827,\n",
              "         17.12986095,  34.33028349,  -1.87860251, -46.23731948,\n",
              "        -48.55289036,  -4.74983867,  22.53781156,  -1.65346421,\n",
              "        -39.28569103, -31.58589446,  19.30089948,  55.67416428,\n",
              "         35.42037296, -13.7185019 , -26.24848814,  12.55938594,\n",
              "         50.93909166,  39.84159991,  -8.64961879, -27.2530943 ,\n",
              "          5.91014317,  46.08106305,  36.27413444, -11.21267387,\n",
              "        -37.0343934 ,  -6.87105596,  36.80630637,  37.65566124,\n",
              "         -2.75002393, -30.57128196,  -7.26964588,  39.05535107,\n",
              "         46.7706755 ,   4.93679383, -30.10432767, -15.88172287,\n",
              "         29.08607428,  43.52352968,   5.76610917, -32.84922146,\n",
              "        -20.91399651,  25.05524972,  45.4274829 ,  13.89066869,\n",
              "        -26.36922721, -21.08373909,  25.81459883,  50.47625239,\n",
              "         21.36968751, -20.96462977, -21.90073333,  21.13534314,\n",
              "         50.22856606,  27.76990204, -19.14218214, -30.87671947,\n",
              "          8.36775725,  44.89471547,  30.08412288, -18.04605253,\n",
              "        -35.36034254,   3.23772143,  41.62060823,  33.67078705,\n",
              "        -12.46077257, -38.57310072,  -9.91722713,  30.82131887,\n",
              "         28.23000833, -18.33468726, -49.45629598, -27.59734547,\n",
              "         15.99663707,  21.12262494, -21.58590811, -56.78798782,\n",
              "        -37.57963941,  11.01411237,  24.21424335, -15.63977014,\n",
              "        -53.56445121, -42.15532241,   3.93009426,  23.34477741,\n",
              "        -12.15379381, -52.94463964, -45.6887797 ,   3.39326695,\n",
              "         30.02298189,   3.45534733, -40.98865392, -43.82103842,\n",
              "          1.82217792,  30.80447981,   8.37685262, -38.00471764,\n",
              "        -48.28024433,  -3.78824013,  31.19278291,  15.0498134 ,\n",
              "        -27.90715938, -44.62514551,  -8.22015441,  31.90130515,\n",
              "         21.89972506, -25.85540212, -48.73008321, -18.41032435,\n",
              "         24.06286895,  24.27799183, -21.26845993, -48.0834899 ,\n",
              "        -22.63360103,  22.76320436,  28.76192458, -10.50044144,\n",
              "        -40.54089417, -21.74843345,  23.78344145,  30.9182319 ,\n",
              "         -8.56656018, -44.12043229, -29.12538134,  20.83159633,\n",
              "         39.97050492,   2.62284917, -40.01736562, -34.46813362,\n",
              "         10.90505151,  35.97069661,   8.19630906, -32.73560331,\n",
              "        -29.98253215,  16.31253132,  49.30709639,  25.88667275,\n",
              "        -19.48572943, -26.10659956,  16.89207334,  51.88130071,\n",
              "         31.81409434, -14.28053357, -29.98907045,   7.49699661,\n",
              "         43.26568092,  32.84399609, -13.04304393, -38.12492488,\n",
              "         -5.86513217,  34.75884907,  33.41103399,  -6.97706199,\n",
              "        -33.42392318,  -7.82003364,  38.08862281,  41.31056258,\n",
              "         -2.44419772, -32.25764124, -10.87825098,  33.95199029,\n",
              "         46.17709996,   6.92109557, -31.47800517, -18.46968441,\n",
              "         26.06907585,  42.86479372,   7.46448741, -33.79982472,\n",
              "        -23.87112424,  23.73710736,  48.0353887 ,  16.99173844,\n",
              "        -27.35182466, -25.65028182,  17.5918858 ,  48.6781971 ,\n",
              "         23.85067099, -21.64117359, -30.66881767,   8.49375771,\n",
              "         39.07557153,  22.96714279, -22.67150956, -36.92236656,\n",
              "          2.80859075,  44.75538128,  37.00902393,  -7.91796246,\n",
              "        -29.03605905,   2.96975293,  42.26799222,  38.3081775 ,\n",
              "         -8.4091726 , -35.1070395 , -11.75540469,  29.82825029,\n",
              "         31.22844381, -11.41580579, -41.69098028, -20.77256147,\n",
              "         24.74146873,  32.86062835,  -7.28306466, -43.06559243,\n",
              "        -30.37143717,  16.85691882,  34.41249318,   0.48780344,\n",
              "        -38.22763291, -31.32629852,  13.18382393,  37.24475166,\n",
              "          6.46500178, -38.68640863, -38.86446261,   7.86135672,\n",
              "         37.8560662 ,  10.93668254, -35.9312776 , -45.19029763,\n",
              "         -0.89586105,  35.60504858,  17.4084476 , -27.17164767,\n",
              "        -40.36322103,  -0.21575631,  38.35876257,  27.02635164,\n",
              "        -18.55447312, -38.03769582,  -1.17880058,  42.97322838,\n",
              "         37.86190681,  -8.43324959, -37.21072517, -11.71950432,\n",
              "         28.50092853,  25.17808889, -21.18750775, -54.82584593,\n",
              "        -34.05241023,  10.74531473,  19.14984432, -23.35330612,\n",
              "        -59.70712128, -41.93508587,   9.79981539,  35.93809776,\n",
              "         10.88277649, -23.75313317, -13.48661601,  30.5283432 ,\n",
              "         51.23475969,  22.89264867, -17.60397465, -14.84259504,\n",
              "         28.38830272,  55.17473387,  25.40521363, -23.95474274,\n",
              "        -31.84411998,   7.52859718,  39.39442403,  18.77987586,\n",
              "        -26.14403201, -39.24978423,   0.76963454,  38.14423968,\n",
              "         24.75454659, -19.37942932, -37.34367261,  -2.82616781,\n",
              "         37.05460055,  32.10564797, -10.95201   , -33.48835783,\n",
              "         -4.32937993,  38.91593928,  39.76261542,  -4.79233588,\n",
              "        -36.47639895, -11.96055814,  32.43320226,  39.50489793,\n",
              "          0.24554461, -34.43684199, -19.49724612,  24.40084795,\n",
              "         36.33945599,  -3.20090626, -41.95372306, -34.01597864,\n",
              "         12.74734272,  33.34275675,   4.60427918, -35.21557432,\n",
              "        -30.63278805,  18.49565362,  49.03526631,  23.44856559,\n",
              "        -21.29893299, -25.93371394,  14.54923817,  42.80693873,\n",
              "         18.15590306, -32.0193536 , -47.37281606, -12.96096924,\n",
              "         18.94970188,   3.02821218, -45.63892351, -62.9161905 ,\n",
              "        -26.56707421,  14.8599398 ,  14.17486586, -27.47828186,\n",
              "        -46.03548932, -10.75174265,  37.11747184,  39.0851677 ,\n",
              "         -5.92114174, -36.19694333, -15.49172411,  25.44952864,\n",
              "         30.57082746, -12.35431539, -50.55888786, -38.06837815,\n",
              "          4.81122526,  17.01893363, -19.82074205, -54.94279109,\n",
              "        -44.44620312,   4.44753195,  25.02892386,  -5.93951796,\n",
              "        -43.84178443, -35.55336684,  14.42124319,  43.94855362,\n",
              "         18.56557208, -24.26169424, -28.83473853,  11.71044559,\n",
              "         41.53236409,  17.9455225 , -30.30707411, -44.23792111,\n",
              "         -5.47151432,  28.43464994,  12.57857487, -32.87673681,\n",
              "        -48.72928287, -10.24006163,  34.25692812,  29.70668702,\n",
              "        -10.73478478, -29.08098771,   2.19557727,  45.55740864,\n",
              "         42.30300431,  -3.42063836, -33.9130226 , -11.85115223,\n",
              "         34.45096836,  38.64133418,  -5.42906035, -39.05872144,\n",
              "        -20.06265585,  27.46362899,  39.67062508,   1.4003238 ,\n",
              "        -34.22278411, -20.0802085 ,  26.66804015,  45.03245073,\n",
              "         11.77551153, -30.77478981, -27.34896623,  19.26446867,\n",
              "         46.78900071,  21.26211506, -21.63770369, -25.99747158,\n",
              "         14.04579476,  43.29407809,  20.63486059, -26.97637618,\n",
              "        -35.33265122,   6.72001589,  42.196105  ,  27.83809539,\n",
              "        -18.9080342 , -33.47780559,   2.00375886,  41.91963629,\n",
              "         33.78880331,  -8.58926399, -26.22708999,   8.47430043,\n",
              "         54.18788195,  54.42862877,  12.34251466, -16.37198704,\n",
              "          7.2525966 ,  48.5387381 ,  51.07290962,   7.99108295,\n",
              "        -26.50977047,  -8.81467955,  38.26782653,  49.81571826,\n",
              "         10.38496585, -26.32796071, -14.3485917 ,  31.80854239,\n",
              "         49.50941088,  14.58698291, -30.55927256, -28.08588666,\n",
              "         16.21560934,  39.06768407,  10.58330611, -33.05855601,\n",
              "        -34.3004338 ,  12.07714125,  45.29913765,  21.39302399,\n",
              "        -24.17723111, -32.78165891,   6.23320942,  37.59784288,\n",
              "         21.98721062, -23.15271803, -39.83547351,  -2.10658604,\n",
              "         36.62341443,  25.01749823, -22.83886399, -45.74170126,\n",
              "        -12.58854224,  29.57358476,  26.19015188, -20.09336834,\n",
              "        -48.2160029 , -19.78227834,  26.66927932,  33.65264457,\n",
              "         -7.26920756, -36.75130146, -14.89666096,  29.55169075,\n",
              "         40.1087311 ,   0.25793816, -35.73220932, -22.3877319 ,\n",
              "         20.27135059,  34.54451902,  -0.80374496, -40.01345896,\n",
              "        -34.10713978,  13.19719657,  39.90903491,  11.0648609 ,\n",
              "        -32.86633898, -33.18307733,  11.40163408,  38.53978442,\n",
              "         12.12386373, -35.74263699, -47.71672583, -10.99990994,\n",
              "         19.6388045 ,  -2.06108774, -51.50359088, -63.26620821,\n",
              "        -23.26344199,  22.38720649,  23.13523698, -16.8008498 ,\n",
              "        -37.21805211,  -3.93936717,  34.0577088 ,  28.2246806 ,\n",
              "        -17.43444594, -43.00266397, -17.16296561,  26.05065803,\n",
              "         28.72321686, -17.58227818, -51.73331515, -31.47338109,\n",
              "         17.52903794,  28.99345691, -11.80910825, -47.24964062,\n",
              "        -31.71112231,  21.14996556,  42.12164278,   0.3874301 ,\n",
              "        -45.49415079, -32.1025773 ,  20.04167406,  44.37212768,\n",
              "         12.1458088 , -31.59225645, -34.50404113,   8.70148252,\n",
              "         36.67734307,  11.38556987, -34.85580696, -42.70175657,\n",
              "         -2.0707474 ,  30.69525283,  14.19777705, -31.75764114,\n",
              "        -43.17846752,  -2.18966729,  36.36829494,  26.23495512,\n",
              "        -18.21815031, -38.36098439,  -6.02250971,  33.68081157,\n",
              "         29.2690177 , -15.39685267, -42.5447606 , -16.85366677,\n",
              "         26.35546837,  29.02468464, -15.49547792, -43.35547908,\n",
              "        -22.09427848,  21.83316439,  31.4413901 ,  -8.64206072,\n",
              "        -44.29164742, -28.31732939,  17.04443394,  32.44868307,\n",
              "         -5.55654166, -46.20620005, -36.1612521 ,   7.41834195,\n",
              "         31.9086216 ,   2.98962604, -40.51410586, -39.18603565,\n",
              "          3.75637474,  31.75666293,   7.27736604, -37.43497933,\n",
              "        -43.17833712,   0.27182812,  34.78605122,  17.67886633,\n",
              "        -28.38419307, -38.91009425,   1.11619475,  37.85520508,\n",
              "         20.97096708, -26.0129898 , -44.60963701,  -9.36494693,\n",
              "         30.88660709,  24.45055069, -20.95109149, -42.8272959 ,\n",
              "        -12.29204007,  32.90269734,  37.70193655,  -5.75930342,\n",
              "        -37.20650477, -14.38315089,  34.75427355,  43.71078258,\n",
              "          2.90538896, -33.1788959 , -16.13656196,  29.15039949,\n",
              "         44.33799572,  10.47873261, -31.02888541, -24.91535536,\n",
              "         22.95632427,  46.5201535 ,  14.38763086, -29.32574667,\n",
              "        -24.6314836 ,  23.96591399,  51.11543847,  24.35608064,\n",
              "        -25.13817025, -27.94082655,  15.16159779,  47.32658726,\n",
              "         30.51612471, -15.03530858, -26.05023294,  14.84582969,\n",
              "         51.02485575,  37.7278201 ,  -7.74230402, -24.61054495,\n",
              "          9.14506737,  52.4120014 ,  44.48672403,  -2.83329942,\n",
              "        -24.91210519,   6.99326893,  47.12278359,  46.49889794,\n",
              "          0.83156961, -27.45974527,  -2.19609205,  43.73248247,\n",
              "         51.48143002,  10.11120094, -26.46725584,  -7.7749928 ,\n",
              "         39.08943627,  52.27847622,  11.3430706 , -27.44633831,\n",
              "        -18.3298095 ,  27.32409683,  48.02531929,  14.24429532,\n",
              "        -28.97403877, -22.42774777,  25.87510247,  50.15444507,\n",
              "         22.95421213, -19.26066517, -19.2902566 ,  24.00936719,\n",
              "         53.58113469,  31.81597362, -13.18668913, -21.43842733,\n",
              "         16.0696845 ,  53.00557124,  40.10565714,  -4.1116341 ,\n",
              "        -24.94887932,   7.1948442 ,  47.27445873,  39.59138614,\n",
              "         -5.41545202, -26.68513451,   1.45075967,  49.1051513 ,\n",
              "         49.854461  ,   2.12560929, -27.15748339,  -1.88739662,\n",
              "         41.47079004,  55.3694971 ,  10.56514519, -35.67084489,\n",
              "        -19.84655215,  25.29094466,  33.6755671 ,  -8.27776294,\n",
              "        -50.80512317, -42.92709086,   1.05625719,  20.87034471,\n",
              "        -11.94190402, -53.62256408, -48.3302099 ,  -4.35891524,\n",
              "         19.8757469 , -11.30479569, -57.28861441, -51.29477981]])"
            ]
          },
          "metadata": {
            "tags": []
          },
          "execution_count": 49
        }
      ]
    },
    {
      "metadata": {
        "id": "cKAWXgHPw_Ox",
        "colab_type": "code",
        "colab": {}
      },
      "cell_type": "code",
      "source": [
        "|# Af, Hf\n",
        "\n",
        "def Et(s, order):\n",
        "  A, _ = mtmvar.mult_AR(s, order, 1)\n",
        "  A = np.array([np.eye(A[0].shape[0])] + A.tolist())\n",
        "  \n",
        "  Et = []\n",
        "  #for channel in range(s.shape[0])\n",
        "  for t in range(s.shape[1]):\n",
        "    tmp = 0\n",
        "    for j in range(A.shape[0]):\n",
        "      tmp += A[j]*s[:,t-j]\n",
        "      \n",
        "    Et.append(tmp)\n",
        "  return np.array(Et)\n",
        "      \n",
        "\n",
        "\n",
        "\n",
        "def magic_function(s, order, f, fs):\n",
        "  dt = 1/fs\n",
        "  \n",
        "  Xf = np.fft.fft(s)\n",
        "  Xf = np.transpose(Xf, (1, 0))\n",
        "  Et_ = Et(s, order)\n",
        "  Ef = np.fft.fft(Et_)\n",
        "  Hf = np.linalg.solve(Ef,Xf)\n",
        "\n",
        "  A, _ = mtmvar.mult_AR(s, order, 1)\n",
        "  Az = z_transform(A, f, fs)\n",
        "  Ez = z_transform(Ef, f, fs)\n",
        "  Af = np.log(Az*fs)/(2*np.pi *1j)\n",
        "   \n",
        "  \n",
        "  return Af, Hf"
      ],
      "execution_count": 0,
      "outputs": []
    },
    {
      "metadata": {
        "id": "QG1aPbtrIL34",
        "colab_type": "code",
        "colab": {}
      },
      "cell_type": "code",
      "source": [
        ""
      ],
      "execution_count": 0,
      "outputs": []
    },
    {
      "metadata": {
        "id": "RNYjPb2AIhgn",
        "colab_type": "code",
        "outputId": "3f22795b-eac3-4ecc-be38-e11caa1523b4",
        "colab": {
          "base_uri": "https://localhost:8080/",
          "height": 323
        }
      },
      "cell_type": "code",
      "source": [
        "a, b = magic_function(s, 10, 32, 128)\n",
        "\n",
        "a"
      ],
      "execution_count": 0,
      "outputs": [
        {
          "output_type": "error",
          "ename": "NameError",
          "evalue": "ignored",
          "traceback": [
            "\u001b[0;31m---------------------------------------------------------------------------\u001b[0m",
            "\u001b[0;31mNameError\u001b[0m                                 Traceback (most recent call last)",
            "\u001b[0;32m<ipython-input-8-6e5569f0bfda>\u001b[0m in \u001b[0;36m<module>\u001b[0;34m()\u001b[0m\n\u001b[0;32m----> 1\u001b[0;31m \u001b[0ma\u001b[0m\u001b[0;34m,\u001b[0m \u001b[0mb\u001b[0m \u001b[0;34m=\u001b[0m \u001b[0mmagic_function\u001b[0m\u001b[0;34m(\u001b[0m\u001b[0ms\u001b[0m\u001b[0;34m,\u001b[0m \u001b[0;36m10\u001b[0m\u001b[0;34m,\u001b[0m \u001b[0;36m32\u001b[0m\u001b[0;34m,\u001b[0m \u001b[0;36m128\u001b[0m\u001b[0;34m)\u001b[0m\u001b[0;34m\u001b[0m\u001b[0;34m\u001b[0m\u001b[0m\n\u001b[0m\u001b[1;32m      2\u001b[0m \u001b[0;34m\u001b[0m\u001b[0m\n\u001b[1;32m      3\u001b[0m \u001b[0ma\u001b[0m\u001b[0;34m\u001b[0m\u001b[0;34m\u001b[0m\u001b[0m\n",
            "\u001b[0;32m<ipython-input-7-1466cd022a23>\u001b[0m in \u001b[0;36mmagic_function\u001b[0;34m(s, order, f, fs)\u001b[0m\n\u001b[1;32m     27\u001b[0m \u001b[0;34m\u001b[0m\u001b[0m\n\u001b[1;32m     28\u001b[0m   \u001b[0mA\u001b[0m\u001b[0;34m,\u001b[0m \u001b[0m_\u001b[0m \u001b[0;34m=\u001b[0m \u001b[0mmtmvar\u001b[0m\u001b[0;34m.\u001b[0m\u001b[0mmult_AR\u001b[0m\u001b[0;34m(\u001b[0m\u001b[0ms\u001b[0m\u001b[0;34m,\u001b[0m \u001b[0morder\u001b[0m\u001b[0;34m,\u001b[0m \u001b[0;36m1\u001b[0m\u001b[0;34m)\u001b[0m\u001b[0;34m\u001b[0m\u001b[0;34m\u001b[0m\u001b[0m\n\u001b[0;32m---> 29\u001b[0;31m   \u001b[0mAz\u001b[0m \u001b[0;34m=\u001b[0m \u001b[0mz_transform\u001b[0m\u001b[0;34m(\u001b[0m\u001b[0mA\u001b[0m\u001b[0;34m,\u001b[0m \u001b[0mf\u001b[0m\u001b[0;34m,\u001b[0m \u001b[0mfs\u001b[0m\u001b[0;34m)\u001b[0m\u001b[0;34m\u001b[0m\u001b[0;34m\u001b[0m\u001b[0m\n\u001b[0m\u001b[1;32m     30\u001b[0m   \u001b[0mEz\u001b[0m \u001b[0;34m=\u001b[0m \u001b[0mz_transform\u001b[0m\u001b[0;34m(\u001b[0m\u001b[0mEf\u001b[0m\u001b[0;34m,\u001b[0m \u001b[0mf\u001b[0m\u001b[0;34m,\u001b[0m \u001b[0mfs\u001b[0m\u001b[0;34m)\u001b[0m\u001b[0;34m\u001b[0m\u001b[0;34m\u001b[0m\u001b[0m\n\u001b[1;32m     31\u001b[0m   \u001b[0mAf\u001b[0m \u001b[0;34m=\u001b[0m \u001b[0mnp\u001b[0m\u001b[0;34m.\u001b[0m\u001b[0mlog\u001b[0m\u001b[0;34m(\u001b[0m\u001b[0mAz\u001b[0m\u001b[0;34m*\u001b[0m\u001b[0mfs\u001b[0m\u001b[0;34m)\u001b[0m\u001b[0;34m/\u001b[0m\u001b[0;34m(\u001b[0m\u001b[0;36m2\u001b[0m\u001b[0;34m*\u001b[0m\u001b[0mnp\u001b[0m\u001b[0;34m.\u001b[0m\u001b[0mpi\u001b[0m \u001b[0;34m*\u001b[0m\u001b[0;36m1j\u001b[0m\u001b[0;34m)\u001b[0m\u001b[0;34m\u001b[0m\u001b[0;34m\u001b[0m\u001b[0m\n",
            "\u001b[0;31mNameError\u001b[0m: name 'z_transform' is not defined"
          ]
        }
      ]
    },
    {
      "metadata": {
        "id": "-qEn0rN0I8_k",
        "colab_type": "text"
      },
      "cell_type": "markdown",
      "source": [
        ""
      ]
    },
    {
      "metadata": {
        "id": "sJuBkt8YA39a",
        "colab_type": "code",
        "colab": {}
      },
      "cell_type": "code",
      "source": [
        "Et(s, 10).shape"
      ],
      "execution_count": 0,
      "outputs": []
    },
    {
      "metadata": {
        "id": "h1asvk_GFNzc",
        "colab_type": "code",
        "colab": {}
      },
      "cell_type": "code",
      "source": [
        ""
      ],
      "execution_count": 0,
      "outputs": []
    },
    {
      "metadata": {
        "id": "5KjUqRqsw_Rh",
        "colab_type": "code",
        "colab": {}
      },
      "cell_type": "code",
      "source": [
        "def S(s):\n",
        "  S = scipy.fftpack.fft(s)\n",
        "  return abs(S)"
      ],
      "execution_count": 0,
      "outputs": []
    },
    {
      "metadata": {
        "id": "5pk4ueHOw_Uq",
        "colab_type": "code",
        "colab": {}
      },
      "cell_type": "code",
      "source": [
        "|plt.plot(S(s))"
      ],
      "execution_count": 0,
      "outputs": []
    },
    {
      "metadata": {
        "id": "099xch7Bw_Xn",
        "colab_type": "code",
        "colab": {}
      },
      "cell_type": "code",
      "source": [
        ""
      ],
      "execution_count": 0,
      "outputs": []
    },
    {
      "metadata": {
        "id": "93Z1WsIhsB6w",
        "colab_type": "code",
        "colab": {}
      },
      "cell_type": "code",
      "source": [
        "def X(s, Fs, axis=0):\n",
        "  N = s.shape[1]\n",
        "  # sample spacing\n",
        "  T = 1.0 / Fs\n",
        "  yf = scipy.fftpack.fft(s)\n",
        "  xf = np.linspace(0.0, 1.0/(2.0*T), N/2)\n",
        "  return N, xf, yf\n",
        "\n",
        "\n",
        "\n",
        "def S(s,f):\n",
        "  _, Xfs = X(s)\n",
        "  Xf = Xfs[f]\n",
        "  return Xf *  Xf.conj"
      ],
      "execution_count": 0,
      "outputs": []
    },
    {
      "metadata": {
        "id": "pBx9XtHRuYwY",
        "colab_type": "code",
        "colab": {}
      },
      "cell_type": "code",
      "source": [
        "a,b = X(s, 128)\n",
        "\n",
        "print(a.shape,b.shape)"
      ],
      "execution_count": 0,
      "outputs": []
    },
    {
      "metadata": {
        "id": "sNH5YiihsmVX",
        "colab_type": "code",
        "colab": {}
      },
      "cell_type": "code",
      "source": [
        "fig, ax = plt.subplots()\n",
        "N, xf, yf = X(s, 128)\n",
        "ax.plot(xf, 2.0/N * np.abs(yf[:N//2]))\n",
        "plt.show()"
      ],
      "execution_count": 0,
      "outputs": []
    },
    {
      "metadata": {
        "id": "ELtaA_91IUGf",
        "colab_type": "code",
        "colab": {}
      },
      "cell_type": "code",
      "source": [
        "order, params, coefs = utils.best_akaike(s, 1, 20)\n",
        "A, V = mtmvar.mult_AR(s, order, 1)\n",
        "\n",
        "A_f = lambda f: utils.z_transform(A, f, fs)\n",
        "H_f = lambda f: np.matrix(A_f(f)).I\n",
        "\n",
        "print(A_f(20))\n",
        "print(H_f(20))"
      ],
      "execution_count": 0,
      "outputs": []
    },
    {
      "metadata": {
        "id": "DkEBwzwTxwUu",
        "colab_type": "code",
        "colab": {}
      },
      "cell_type": "code",
      "source": [
        "A.shape"
      ],
      "execution_count": 0,
      "outputs": []
    },
    {
      "metadata": {
        "id": "Wbvqkh9RJpSS",
        "colab_type": "code",
        "colab": {}
      },
      "cell_type": "code",
      "source": [
        "S_f = lambda f: np.dot(np.dot(H_f(f), V), np.matrix(H_f(f)).H)\n",
        "\n",
        "plt.figure()\n",
        "for f in np.arange(0, fs // 2):\n",
        "  plt.stem([f], S_f(f)[0])\n",
        "\n",
        "plt.show()\n",
        "plt.close()\n",
        "\n",
        "plt.figure()\n",
        "S = np.fft.rfft(s)\n",
        "print(S)\n",
        "plt.plot(np.abs(S)**2)\n",
        "plt.show()\n",
        "plt.close()"
      ],
      "execution_count": 0,
      "outputs": []
    },
    {
      "metadata": {
        "id": "gtnhSnezxjR7",
        "colab_type": "text"
      },
      "cell_type": "markdown",
      "source": [
        "#Zadanie 3"
      ]
    },
    {
      "metadata": {
        "id": "ubvYgDMrn_sx",
        "colab_type": "code",
        "colab": {}
      },
      "cell_type": "code",
      "source": [
        "def sin(f=21,N=1000,Fs=128,phi=0):\n",
        "\tdt = 1.0/Fs\n",
        "  \n",
        "\tx = np.arange(0,N/Fs,dt)\n",
        "\tg = np.sin(2*np.pi*f*x + phi)\n",
        "\treturn x, g\n",
        "\n",
        "x, g1 = sin()\n",
        "x, g2 = sin(np.pi/4)\n",
        "g2 += np.random.random(g2.size) * 0.2\n",
        "s = np.array([g1,g2])\n",
        "\n",
        "order, params, coefs = utils.best_akaike(s, 1, 20)\n",
        "A, V = mtmvar.mult_AR(s, order, 1)"
      ],
      "execution_count": 0,
      "outputs": []
    },
    {
      "metadata": {
        "id": "m7T12bIIs3kx",
        "colab_type": "code",
        "outputId": "047b885a-f572-46c8-9e1e-44ec159e25a7",
        "colab": {
          "base_uri": "https://localhost:8080/",
          "height": 875
        }
      },
      "cell_type": "code",
      "source": [
        "\n",
        "fs = 128\n",
        "order=3\n",
        "xf, S = widomo(s, order, fs//2, fs)\n",
        "plt.figure()\n",
        "plt.plot(xf, abs(S))\n",
        "\n",
        "plt.show()\n",
        "plt.close()\n",
        "\n",
        "\n",
        "plt.figure()\n",
        "S = np.fft.rfft(g1)\n",
        "freq = np.fft.rfftfreq(s.size, d=1./fs)\n",
        "plt.plot(abs(S))\n",
        "plt.show()\n",
        "plt.close()"
      ],
      "execution_count": 0,
      "outputs": [
        {
          "output_type": "display_data",
          "data": {
            "image/png": "[encoded data removed]",
            "text/plain": [
              "<matplotlib.figure.Figure at 0x7f09b48bb0f0>"
            ]
          },
          "metadata": {
            "tags": []
          }
        },
        {
          "output_type": "display_data",
          "data": {
            "image/png": "[encoded data removed]",
            "text/plain": [
              "<matplotlib.figure.Figure at 0x7f09b4886630>"
            ]
          },
          "metadata": {
            "tags": []
          }
        }
      ]
    },
    {
      "metadata": {
        "id": "NKgXdutDooD2",
        "colab_type": "code",
        "colab": {}
      },
      "cell_type": "code",
      "source": [
        "\"plt.plot(x,s[0])"
      ],
      "execution_count": 0,
      "outputs": []
    },
    {
      "metadata": {
        "id": "pS5eQw6ex20U",
        "colab_type": "code",
        "colab": {}
      },
      "cell_type": "code",
      "source": [
        "A, V = mtmvar.mult_AR(s, order, 1)"
      ],
      "execution_count": 0,
      "outputs": []
    },
    {
      "metadata": {
        "id": "twxtDZp-4pS_",
        "colab_type": "code",
        "colab": {}
      },
      "cell_type": "code",
      "source": [
        "order"
      ],
      "execution_count": 0,
      "outputs": []
    },
    {
      "metadata": {
        "id": "lDH-Znvqx389",
        "colab_type": "code",
        "colab": {}
      },
      "cell_type": "code",
      "source": [
        "A.shape"
      ],
      "execution_count": 0,
      "outputs": []
    },
    {
      "metadata": {
        "id": "NArctmu8xjYm",
        "colab_type": "text"
      },
      "cell_type": "markdown",
      "source": [
        "# Zadanie 4"
      ]
    },
    {
      "metadata": {
        "id": "dIH1LBUfxjmz",
        "colab_type": "text"
      },
      "cell_type": "markdown",
      "source": [
        "# Zadanie 5\n"
      ]
    },
    {
      "metadata": {
        "id": "egkNARpus8NG",
        "colab_type": "code",
        "colab": {}
      },
      "cell_type": "code",
      "source": [
        "def z_transform(A, f, fs):\n",
        "  z = np.exp(2 * np.pi * f / fs)\n",
        "\n",
        "  F = sum([A[j] * z ** (-j) for j in range(len(A))])\n",
        "\n",
        "  return F\n",
        "\n",
        "def z_transform(A, f, fs):\n",
        "  z = np.exp(2 * np.pi * f / fs)\n",
        "\n",
        "  F = sum([np.eye(A[0].shape[0])] + [A[j] * z ** (-j - 1) for j in range(len(A))])\n",
        "  return F\n"
      ],
      "execution_count": 0,
      "outputs": []
    },
    {
      "metadata": {
        "id": "3pZooc732UYO",
        "colab_type": "text"
      },
      "cell_type": "markdown",
      "source": [
        ""
      ]
    },
    {
      "metadata": {
        "id": "AipRU4Qu0KKs",
        "colab_type": "code",
        "colab": {}
      },
      "cell_type": "code",
      "source": [
        "q = np.array([[1,2,], [2,1]])\n",
        "z_transform(q,200,1)"
      ],
      "execution_count": 0,
      "outputs": []
    },
    {
      "metadata": {
        "id": "9Xw8U_XY0JvC",
        "colab_type": "code",
        "colab": {}
      },
      "cell_type": "code",
      "source": [
        ""
      ],
      "execution_count": 0,
      "outputs": []
    },
    {
      "metadata": {
        "id": "l6ZajMfU0Ivi",
        "colab_type": "code",
        "colab": {}
      },
      "cell_type": "code",
      "source": [
        "?np.eye"
      ],
      "execution_count": 0,
      "outputs": []
    },
    {
      "metadata": {
        "id": "-amoYbgM05w6",
        "colab_type": "code",
        "colab": {}
      },
      "cell_type": "code",
      "source": [
        "A"
      ],
      "execution_count": 0,
      "outputs": []
    },
    {
      "metadata": {
        "id": "HWQ3UHC_3rAi",
        "colab_type": "code",
        "colab": {}
      },
      "cell_type": "code",
      "source": [
        "def sin(f=32, N=1000, Fs=128, phi=0):\n",
        " \n",
        "\tdt = 1.0/Fs\n",
        "\tx = np.arange(0,N/Fs,dt)\n",
        "\tg = np.sin(2*np.pi*f*x + phi)\n",
        "\treturn x, g\n",
        "\n",
        "x, g1 = sin()\n",
        "\n",
        "plt.plot(x, g1)\n",
        "\n",
        "x, g2 = sin(phi=np.pi/4)\n",
        "g2 += np.random.random(g2.size) * 0.2\n",
        "s = np.array([g1,g2])\n",
        "\n",
        "order, params, coefs = utils.best_akaike(s, 1, 20)\n",
        "A, V = mtmvar.mult_AR(s, order, 1)\n",
        "\n",
        "l = [z_transform(A, f, 128)[0][1] for f in range(1,64)]\n",
        "# plt.plot(l)"
      ],
      "execution_count": 0,
      "outputs": []
    },
    {
      "metadata": {
        "id": "_Iu6-_su38JU",
        "colab_type": "code",
        "colab": {}
      },
      "cell_type": "code",
      "source": [
        "|plt.plot(l)"
      ],
      "execution_count": 0,
      "outputs": []
    },
    {
      "metadata": {
        "id": "SyJ6G-aP4AdX",
        "colab_type": "code",
        "colab": {}
      },
      "cell_type": "code",
      "source": [
        "?scipy.fft"
      ],
      "execution_count": 0,
      "outputs": []
    },
    {
      "metadata": {
        "id": "1gBWcBoQPIDU",
        "colab_type": "code",
        "colab": {}
      },
      "cell_type": "code",
      "source": [
        ""
      ],
      "execution_count": 0,
      "outputs": []
    }
  ]
}